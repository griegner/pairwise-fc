{
 "cells": [
  {
   "cell_type": "code",
   "execution_count": null,
   "metadata": {},
   "outputs": [],
   "source": [
    "%load_ext autoreload\n",
    "%autoreload 2"
   ]
  },
  {
   "cell_type": "code",
   "execution_count": null,
   "metadata": {},
   "outputs": [],
   "source": [
    "import warnings\n",
    "\n",
    "import matplotlib.pyplot as plt\n",
    "import numpy as np\n",
    "import pandas as pd\n",
    "import seaborn as sns\n",
    "import statsmodels.api as sm\n",
    "import statsmodels.formula.api as smf\n",
    "from nilearn import connectome, datasets, maskers, plotting\n",
    "from src import autocorr, fmriprep\n",
    "\n",
    "warnings.simplefilter(action=\"ignore\", category=FutureWarning)\n",
    "\n",
    "ex_preproc = \"../tests/data/sub-c016_task-h2_space-MNI152NLin6Asym_res-3_desc-preproc_bold.nii.gz\"\n",
    "\n",
    "data = fmriprep.Data(preproc=ex_preproc, denoise_strategy=\"HMPWMCSFScrubGS\")\n",
    "\n",
    "atlas = datasets.fetch_atlas_schaefer_2018(n_rois=100, resolution_mm=2, yeo_networks=17)\n",
    "atlas_img = atlas[\"maps\"]\n",
    "atlas_labels = [label.decode()[11:] for label in atlas[\"labels\"]]\n",
    "\n",
    "plotting.plot_roi(atlas_img, draw_cross=False)\n"
   ]
  },
  {
   "cell_type": "markdown",
   "metadata": {},
   "source": [
    "#### extract mean timeseries w/in each ROI\n",
    "- zscore timeseries and confounds\n",
    "- `nilearn.signal.clean`: 'confounds removal is based on a projection on the orthogonal of the signal space'"
   ]
  },
  {
   "cell_type": "code",
   "execution_count": null,
   "metadata": {},
   "outputs": [],
   "source": [
    "masker = maskers.NiftiLabelsMasker(\n",
    "    atlas_img,\n",
    "    atlas_labels,\n",
    "    mask_img=data.mask,\n",
    "    smoothing_fwhm=6,\n",
    "    standardize=\"zscore\",\n",
    "    standardize_confounds=True,\n",
    "    t_r=data.tr,\n",
    "    strategy=\"mean\",\n",
    "    memory=\"tmp\",\n",
    ")\n",
    "\n",
    "\n",
    "roi_timeseries = masker.fit_transform(\n",
    "    imgs=data.preproc, confounds=data.confounds, sample_mask=data.sample_mask\n",
    ")\n",
    "\n",
    "roi_timeseries.shape\n"
   ]
  },
  {
   "cell_type": "markdown",
   "metadata": {},
   "source": [
    "#### functional connectivity: correlation\n",
    "- correlation and partial correlation"
   ]
  },
  {
   "cell_type": "code",
   "execution_count": null,
   "metadata": {},
   "outputs": [],
   "source": [
    "def fisher_z(corr_coefficients):\n",
    "    return np.arctanh(corr_coefficients)\n",
    "\n",
    "\n",
    "# LedoitWolf covariance estimator\n",
    "corr_model = connectome.ConnectivityMeasure(kind=\"correlation\")\n",
    "pcorr_model = connectome.ConnectivityMeasure(kind=\"partial correlation\")\n",
    "\n",
    "corr_coefficients = corr_model.fit_transform([roi_timeseries])[0]\n",
    "pcorr_coefficients = pcorr_model.fit_transform([roi_timeseries])[0]\n",
    "\n",
    "\n",
    "corr_z_transform = fisher_z(corr_coefficients)\n",
    "pcorr_z_transform = fisher_z(pcorr_coefficients)\n",
    "\n",
    "# plotting\n",
    "fig, axs = plt.subplots(1, 2, figsize=(10, 5))\n",
    "\n",
    "kwargs = dict(vmin=-1, vmax=1, cmap=\"RdBu_r\")\n",
    "\n",
    "plotting.plot_matrix(corr_z_transform, axes=axs[0], colorbar=False, **kwargs)\n",
    "plotting.plot_matrix(pcorr_z_transform, axes=axs[1], **kwargs)\n",
    "\n",
    "axs[0].set_title(\"correlation\")\n",
    "axs[1].set_title(\"partial correlation\");\n"
   ]
  },
  {
   "cell_type": "markdown",
   "metadata": {},
   "source": [
    "#### temporal autocorrelation correction [xDF](https://github.com/asoroosh/xDF)\n",
    "- regularization: ACF diminishes to zero with increasing lags\n",
    "- tapering: smoothly scaling ACF estimates to zero with increasing lags\n",
    "\n",
    "regularization methods\n",
    "1. fixed truncation\n",
    "2. Tukey tapering\n",
    "3. adaptive scaling (which gets the most accurate estimates)\n",
    "\n",
    "TV\n",
    "- truncate to theoretical variance\n",
    "\n",
    "xDF model\n",
    "- approximates *auto correlation* and *cross correlation* using Wiener-Khinchin Theorem"
   ]
  },
  {
   "cell_type": "code",
   "execution_count": null,
   "metadata": {},
   "outputs": [],
   "source": [
    "t = roi_timeseries.shape[0]\n",
    "kwargs = dict(ts=roi_timeseries, T=t, verbose=True)\n",
    "\n",
    "# xDF without regularization\n",
    "xdf1 = autocorr.xDF_Calc(method=\"\", TV=True, **kwargs)\n",
    "\n",
    "# xDF without truncation\n",
    "xdf2 = autocorr.xDF_Calc(method=\"truncate\", methodparam=int(t / 4), **kwargs)\n",
    "\n",
    "# xDF with adaptive truncation\n",
    "xdf3 = autocorr.xDF_Calc(method=\"truncate\", methodparam=\"adaptive\", **kwargs)\n",
    "\n",
    "# xDF without tapering\n",
    "xdf4 = autocorr.xDF_Calc(method=\"tukey\", methodparam=np.sqrt(t), **kwargs)\n"
   ]
  },
  {
   "cell_type": "code",
   "execution_count": null,
   "metadata": {},
   "outputs": [],
   "source": [
    "fig, axs = plt.subplots(\n",
    "    3, 5, figsize=(12, 6), gridspec_kw=dict(height_ratios=[1, 0.75, 0.75])\n",
    ")\n",
    "fig.tight_layout()\n",
    "\n",
    "for idx, corr_z in enumerate(\n",
    "    [xdf1[\"znaive\"], xdf1[\"z\"], xdf2[\"z\"], xdf3[\"z\"], xdf4[\"z\"]]\n",
    "):\n",
    "\n",
    "    # multitest correction\n",
    "    z_corrected = autocorr.stat_threshold(corr_z, mce=\"fdr_bh\")[0]\n",
    "    n_corrected = len(np.where(z_corrected != 0)[0]) / 2\n",
    "\n",
    "    axs[0, idx].set_title(f\"xDF model {idx}\\nq < 0.05: {n_corrected}\")\n",
    "\n",
    "    # plot z-transformed correlation matrix\n",
    "    corr_z[np.diag_indices_from(corr_z)] = np.nan\n",
    "    plotting.plot_matrix(corr_z, axes=axs[0, idx], vmin=-15, vmax=15, colorbar=False)\n",
    "\n",
    "    # add kde plot\n",
    "    sns.distplot(corr_z.reshape(-1), ax=axs[1, idx], kde=False)\n",
    "\n",
    "    # corrected vs uncorrected scatter plot\n",
    "    sns.scatterplot(\n",
    "        corr_z.reshape(-1), xdf1[\"znaive\"].reshape(-1), ax=axs[2, idx], s=0.5\n",
    "    )\n",
    "\n",
    "axs[2, 0].set_xlabel(\"xDF adjusted Z-score\")\n",
    "axs[2, 0].set_ylabel(\"uncorrected Z-score\")\n",
    "fig.tight_layout()\n"
   ]
  },
  {
   "cell_type": "markdown",
   "metadata": {},
   "source": [
    "#### functional connectivity: PPI"
   ]
  },
  {
   "cell_type": "code",
   "execution_count": null,
   "metadata": {},
   "outputs": [],
   "source": [
    "dm = data.make_design_matrix(hrf_model=\"glover + derivative\", drop_constant=True)\n",
    "dm.plot(subplots=True, figsize=(20, 2))\n"
   ]
  },
  {
   "cell_type": "code",
   "execution_count": null,
   "metadata": {},
   "outputs": [],
   "source": [
    "roi_ts_sample = pd.DataFrame(\n",
    "    roi_timeseries, columns=atlas_labels, index=dm.index\n",
    ").sample(n=3, random_state=5, axis=\"columns\")\n",
    "\n",
    "sns.pairplot(\n",
    "    roi_ts_sample.join(dm[\"stim\"]), height=1.5, plot_kws=dict(size=1, alpha=0.5)\n",
    ")\n"
   ]
  },
  {
   "cell_type": "markdown",
   "metadata": {},
   "source": [
    "#### linear model summary"
   ]
  },
  {
   "cell_type": "code",
   "execution_count": null,
   "metadata": {},
   "outputs": [],
   "source": [
    "lm = smf.ols(\n",
    "    formula=\"LH_DefaultB_PFCv_2 ~ (stim * LH_ContA_PFCl_2) + stim_derivative\",\n",
    "    data=dm.join(roi_ts_sample),\n",
    ").fit()\n",
    "print(lm.summary())\n"
   ]
  },
  {
   "cell_type": "markdown",
   "metadata": {},
   "source": [
    "#### model diagnostics: residual plots"
   ]
  },
  {
   "cell_type": "code",
   "execution_count": null,
   "metadata": {},
   "outputs": [],
   "source": [
    "lm.resid.plot(figsize=(20, 1), title=\"residuals\")\n"
   ]
  },
  {
   "cell_type": "code",
   "execution_count": null,
   "metadata": {},
   "outputs": [],
   "source": [
    "fig, axs = plt.subplots(1, 2, figsize=(10, 4))\n",
    "sns.regplot(lm.fittedvalues, lm.resid, lowess=True, ax=axs[0])\n",
    "axs[0].set_xlabel(\"Fitted Values\")\n",
    "axs[0].set_ylabel(\"Residuals\")\n",
    "sm.qqplot(lm.resid, line=\"s\", ax=axs[1]);\n"
   ]
  },
  {
   "cell_type": "markdown",
   "metadata": {},
   "source": [
    "#### temporal autocorrelation"
   ]
  },
  {
   "cell_type": "code",
   "execution_count": null,
   "metadata": {},
   "outputs": [],
   "source": [
    "fig, axs = plt.subplots(1, 2, figsize=(10, 4))\n",
    "pd.plotting.lag_plot(lm.resid, lag=1, ax=axs[0])\n",
    "pd.plotting.autocorrelation_plot(lm.resid, ax=axs[1])\n"
   ]
  }
 ],
 "metadata": {
  "kernelspec": {
   "display_name": "Python 3.10.6 ('pairwise-fc')",
   "language": "python",
   "name": "python3"
  },
  "language_info": {
   "codemirror_mode": {
    "name": "ipython",
    "version": 3
   },
   "file_extension": ".py",
   "mimetype": "text/x-python",
   "name": "python",
   "nbconvert_exporter": "python",
   "pygments_lexer": "ipython3",
   "version": "3.10.6"
  },
  "orig_nbformat": 4,
  "vscode": {
   "interpreter": {
    "hash": "5e37ee6f4bc0e634362fd897f0c005fc52089adb9e215bb23ce17358efdfa268"
   }
  }
 },
 "nbformat": 4,
 "nbformat_minor": 2
}
